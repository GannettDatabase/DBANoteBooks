{
    "metadata": {
        "kernelspec": {
            "name": "SQL",
            "display_name": "SQL",
            "language": "sql"
        },
        "language_info": {
            "name": "sql",
            "version": ""
        }
    },
    "nbformat_minor": 2,
    "nbformat": 4,
    "cells": [
        {
            "cell_type": "markdown",
            "source": [
                "SQL Server Version and OS"
            ],
            "metadata": {
                "language": "sql",
                "azdata_cell_guid": "badd6aff-fb17-41aa-a1a0-26b56bd43146"
            },
            "attachments": {}
        },
        {
            "cell_type": "code",
            "source": [
                "select @@version"
            ],
            "metadata": {
                "azdata_cell_guid": "6a722994-a27a-4fb6-8b4a-8217c10310a2",
                "language": "sql"
            },
            "outputs": [],
            "execution_count": null
        },
        {
            "cell_type": "markdown",
            "source": [
                "SQL Server Databases and File Location"
            ],
            "metadata": {
                "azdata_cell_guid": "cbc709fd-0778-4fa6-9d02-f04abbff5828"
            },
            "attachments": {}
        },
        {
            "cell_type": "code",
            "source": [
                "select name, physical_name, state from sys.master_files"
            ],
            "metadata": {
                "azdata_cell_guid": "dcf6a85b-aca7-4006-b39d-5cb01d02427c",
                "language": "sql"
            },
            "outputs": [],
            "execution_count": null
        }
    ]
}