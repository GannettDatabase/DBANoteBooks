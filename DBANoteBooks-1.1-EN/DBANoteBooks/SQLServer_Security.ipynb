{
    "metadata": {
        "kernelspec": {
            "name": "SQL",
            "display_name": "SQL",
            "language": "sql"
        },
        "language_info": {
            "name": "sql",
            "version": ""
        }
    },
    "nbformat_minor": 2,
    "nbformat": 4,
    "cells": [
        {
            "cell_type": "markdown",
            "source": [
                "<span style=\"color: rgb(96, 139, 78);\">SQL Server Databases</span>"
            ],
            "metadata": {
                "azdata_cell_guid": "45ccf960-da62-4ffb-99b3-d19ca4f440b5"
            },
            "attachments": {}
        },
        {
            "cell_type": "code",
            "source": [
                "SELECT getdate()\n",
                "SELECT name UserDB\n",
                "FROM sys.databases\n",
                "WHERE database_id > 4\n",
                "    AND name NOT IN ('ReportServer','ReportServerTempDB','SSISDB','DBA_Tools')\n",
                "GO\n",
                "SELECT getdate(), count(name) UserDBCount\n",
                "FROM sys.databases\n",
                "WHERE database_id > 4\n",
                "    AND name NOT IN ('ReportServer','ReportServerTempDB','SSISDB','DBA_Tools')\n",
                "\n",
                "-----------------------\n",
                "--Database Principals\n",
                "-----------------------\n",
                "DECLARE @SQL nvarchar(MAX);\n",
                "SET @SQL = N'';\n",
                "SELECT @SQL = @SQL + N' UNION ALL \n",
                "                SELECT CONCAT_WS('' - '', ''' + name + ''', principal_id) as entitlement_service_identifier, \n",
                "                CONCAT_WS('' - '', ''' + name + ''', name) as entitlement_name,\n",
                "                ''database role'' AS entitlement_type\n",
                "                FROM ' + QUOTENAME(name) + '.sys.database_principals\n",
                "                WHERE type = ''R'''\n",
                "FROM sys.databases\n",
                "where name not in ('ReportServer','ReportServerTempDB');\n",
                "SET @SQL = STUFF(@SQL, 1, 10, '');\n",
                "EXEC sp_executesql @SQL;\n",
                "\n",
                "--------------------------------------\n",
                "--Database Principals. DB Permissions\n",
                "--------------------------------------\n",
                ""
            ],
            "metadata": {
                "azdata_cell_guid": "77437b1d-7138-407e-a59e-71366ebf7692",
                "language": "sql"
            },
            "outputs": [],
            "execution_count": null
        },
        {
            "cell_type": "markdown",
            "source": [
                "<span style=\"color: #608b4e;\">Server Logins with sysadmin or securityadmin Server Role</span>"
            ],
            "metadata": {
                "azdata_cell_guid": "e059a2de-c5c0-4ab7-bd94-5d86601c2f4c"
            },
            "attachments": {}
        },
        {
            "cell_type": "code",
            "source": [
                "SELECT getdate()\r\n",
                "SELECT r.name as Server_Level_Role, m.name as Login_Name, m.type_desc as Type_Of_Login\r\n",
                "FROM master.sys.server_role_members rm\r\n",
                "    INNER JOIN master.sys.server_principals r ON r.principal_id = rm.role_principal_id and r.type = 'R'\r\n",
                "    INNER JOIN master.sys.server_principals m ON m.principal_id = rm.member_principal_id\r\n",
                "WHERE r.name IN ('sysadmin','securityadmin')\r\n",
                "GO\r\n",
                "SELECT getdate()\r\n",
                "SELECT r.name as Server_Level_Role, count(1) 'Count'\r\n",
                "FROM master.sys.server_role_members rm\r\n",
                "    INNER JOIN master.sys.server_principals r ON r.principal_id = rm.role_principal_id AND r.type = 'R'\r\n",
                "    INNER JOIN master.sys.server_principals m ON m.principal_id = rm.member_principal_id\r\n",
                "WHERE r.name IN ('sysadmin','securityadmin')\r\n",
                "GROUP BY r.name"
            ],
            "metadata": {
                "azdata_cell_guid": "4e35bebc-7505-43b4-a2ef-140a3a682479",
                "language": "sql"
            },
            "outputs": [],
            "execution_count": null
        },
        {
            "cell_type": "markdown",
            "source": [
                "<span style=\"color: #608b4e;\">Database Principals</span>"
            ],
            "metadata": {
                "language": "sql",
                "azdata_cell_guid": "8d8ae2c7-46af-4b98-a328-a26d567a7fa2"
            },
            "attachments": {}
        },
        {
            "cell_type": "code",
            "source": [
                "DECLARE @SQL nvarchar(MAX);\r\n",
                "SET @SQL = N'';\r\n",
                "SELECT @SQL = @SQL + N' UNION ALL \r\n",
                "                SELECT CONCAT_WS('' - '', ''' + name + ''', principal_id) as entitlement_service_identifier, \r\n",
                "                CONCAT_WS('' - '', ''' + name + ''', name) as entitlement_name,\r\n",
                "                ''database role'' AS entitlement_type\r\n",
                "                FROM ' + QUOTENAME(name) + '.sys.database_principals\r\n",
                "                WHERE type = ''R'''\r\n",
                "FROM sys.databases\r\n",
                "where name not in ('ReportServer','ReportServerTempDB');\r\n",
                "SET @SQL = STUFF(@SQL, 1, 10, '');\r\n",
                "EXEC sp_executesql @SQL;"
            ],
            "metadata": {
                "language": "sql",
                "azdata_cell_guid": "6c808870-046d-4748-a09e-93f9b21dd3ec"
            },
            "outputs": [],
            "execution_count": null
        },
        {
            "cell_type": "markdown",
            "source": [
                "<span style=\"color: #608b4e;\">Database Principals. DB Permissions</span>"
            ],
            "metadata": {
                "language": "sql",
                "azdata_cell_guid": "976d3e48-6da9-4714-a4ff-a719bdf25646"
            },
            "attachments": {}
        },
        {
            "cell_type": "code",
            "source": [
                "DECLARE @SQL nvarchar(MAX);\r\n",
                "SET @SQL = N'';\r\n",
                "SELECT @SQL = @SQL + N' UNION ALL \r\n",
                "                SELECT ''' + name + ''' Database_Name, dp.name DB_UsersName, rp.name Role, prm.permission_name as Securable, OBJECT_NAME(major_id) as Table_Name\r\n",
                "                FROM ' + QUOTENAME(name) + '.sys.database_role_members drm\r\n",
                "                inner join ' + QUOTENAME(name) + '.sys.database_principals rp on rp.principal_id = drm.role_principal_id\r\n",
                "                inner join ' + QUOTENAME(name) + '.sys.database_principals dp on dp.principal_id = drm.member_principal_id\r\n",
                "                inner join ' + QUOTENAME(name) + '.sys.database_permissions prm on prm.grantee_principal_id = dp.principal_id\r\n",
                "                inner join ' + QUOTENAME(name) + '.sys.database_principals rol on prm.grantee_principal_id = rol.principal_id'\r\n",
                "FROM sys.databases;\r\n",
                "SET @SQL = STUFF(@SQL, 1, 10, '');\r\n",
                "PRINT @SQL\r\n",
                "EXEC sp_executesql @SQL;"
            ],
            "metadata": {
                "language": "sql",
                "azdata_cell_guid": "cec08c11-393b-4a0d-9ea9-9b1a37e3d237"
            },
            "outputs": [],
            "execution_count": null
        }
    ]
}